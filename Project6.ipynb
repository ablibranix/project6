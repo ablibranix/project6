{
 "cells": [
  {
   "cell_type": "code",
   "execution_count": null,
   "id": "82305c3b",
   "metadata": {},
   "outputs": [],
   "source": [
    "import pandas as pd\n",
    "import datetime"
   ]
  },
  {
   "cell_type": "code",
   "execution_count": null,
   "id": "28c3cbac",
   "metadata": {},
   "outputs": [],
   "source": [
    "def convert_date(df):\n",
    "    df['Corrected_Dates'] = pd.to_datetime((df['Date'] - 693963), unit='D', origin=datetime.datetime(1900, 1, 1))\n",
    "    return df"
   ]
  },
  {
   "cell_type": "code",
   "execution_count": null,
   "id": "be5847a8",
   "metadata": {},
   "outputs": [],
   "source": [
    "def show_max_min_dates(df):\n",
    "    max_date = df['Corrected_Dates'].max()\n",
    "    min_date = df['Corrected_Dates'].min()\n",
    "    print(\"Maximum Corrected Date: \", max_date)\n",
    "    print(\"Minimum Corrected Date: \", min_date)"
   ]
  },
  {
   "cell_type": "code",
   "execution_count": null,
   "id": "44eee975",
   "metadata": {},
   "outputs": [],
   "source": [
    "df = pd.read_csv('RRCA_baseflow.csv')\n",
    "df = convert_date(df)\n",
    "show_max_min_dates(df)\n",
    "df"
   ]
  },
  {
   "cell_type": "code",
   "execution_count": null,
   "id": "d9307c3e",
   "metadata": {},
   "outputs": [],
   "source": []
  }
 ],
 "metadata": {
  "kernelspec": {
   "display_name": "Python 3 (ipykernel)",
   "language": "python",
   "name": "python3"
  },
  "language_info": {
   "codemirror_mode": {
    "name": "ipython",
    "version": 3
   },
   "file_extension": ".py",
   "mimetype": "text/x-python",
   "name": "python",
   "nbconvert_exporter": "python",
   "pygments_lexer": "ipython3",
   "version": "3.11.1"
  }
 },
 "nbformat": 4,
 "nbformat_minor": 5
}
