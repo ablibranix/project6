{
 "cells": [
  {
   "cell_type": "code",
   "execution_count": null,
   "id": "82305c3b",
   "metadata": {},
   "outputs": [],
   "source": [
    "import pandas as pd\n",
    "import numpy as np\n",
    "import seaborn as sns\n",
    "import folium\n",
    "import matplotlib.pyplot as plt\n",
    "from sklearn.model_selection import train_test_split\n",
    "from sklearn.linear_model import LinearRegression\n",
    "from sklearn.metrics import r2_score, mean_squared_error"
   ]
  },
  {
   "cell_type": "code",
   "execution_count": null,
   "id": "28c3cbac",
   "metadata": {},
   "outputs": [],
   "source": [
    "def convert_date(df):\n",
    "    df['Corrected_Dates'] = pd.to_datetime((df['Date'] - 693963), unit='D', origin=datetime.datetime(1900, 1, 1))\n",
    "    return df"
   ]
  },
  {
   "cell_type": "code",
   "execution_count": null,
   "id": "44eee975",
   "metadata": {},
   "outputs": [],
   "source": [
    "df = pd.read_csv('RRCA_baseflow.csv')\n",
    "df['Date'] = df['Corrected_Dates']\n",
    "df = df.drop('Corrected_Dates', axis=1)\n",
    "df"
   ]
  },
  {
   "cell_type": "code",
   "execution_count": null,
   "id": "d9307c3e",
   "metadata": {},
   "outputs": [],
   "source": [
    "plt.scatter(df['Date'], df['Precipitation'], s=5)\n",
    "plt.title('Date vs Precipitation')\n",
    "plt.xlabel('Date')\n",
    "plt.ylabel('Precipitation')\n",
    "plt.show()"
   ]
  },
  {
   "cell_type": "code",
   "execution_count": null,
   "id": "63ad6951",
   "metadata": {},
   "outputs": [],
   "source": [
    "plt.scatter(df['Date'], df['Evapotranspiration'], s=5)\n",
    "plt.title('Date vs Evapotranspiration')\n",
    "plt.xlabel('DateCorrected Dates')\n",
    "plt.ylabel('Evapotranspiration')\n",
    "plt.show()"
   ]
  },
  {
   "cell_type": "code",
   "execution_count": null,
   "id": "ccacdfae",
   "metadata": {},
   "outputs": [],
   "source": [
    "plt.scatter(df['Date'], df['Irrigation_pumping'], s=5)\n",
    "plt.title('Date vs Irrigation pumping')\n",
    "plt.xlabel('Date')\n",
    "plt.ylabel('Irrigation pumping')\n",
    "plt.show()"
   ]
  },
  {
   "cell_type": "code",
   "execution_count": null,
   "id": "af94912b",
   "metadata": {},
   "outputs": [],
   "source": [
    "plt.scatter(df[\"Evapotranspiration\"], df[\"Observed\"])\n",
    "plt.xlabel(\"Evapotranspiration\")\n",
    "plt.ylabel(\"Observed baseflow\")\n",
    "plt.title(\"Observed baseflow vs. evapotranspiration\")\n",
    "plt.show()"
   ]
  },
  {
   "cell_type": "code",
   "execution_count": null,
   "id": "411559bb",
   "metadata": {},
   "outputs": [],
   "source": [
    "plt.scatter(df['Evapotranspiration'], df['Irrigation_pumping'], s=5)\n",
    "plt.title('Evapotranspiration vs Irrigation pumping')\n",
    "plt.xlabel('Evapotranspiration')\n",
    "plt.ylabel('Irrigation pumping')\n",
    "plt.show()"
   ]
  },
  {
   "cell_type": "code",
   "execution_count": null,
   "id": "dc0cbd12",
   "metadata": {},
   "outputs": [],
   "source": [
    "plt.scatter(df[\"Date\"], df[\"Observed\"])\n",
    "plt.xlabel(\"Date\")\n",
    "plt.ylabel(\"Observed baseflow\")\n",
    "plt.title(\"Observed baseflow over time\")\n",
    "plt.show()"
   ]
  },
  {
   "cell_type": "code",
   "execution_count": null,
   "id": "b60ffd16",
   "metadata": {},
   "outputs": [],
   "source": [
    "plt.hist(df[\"Observed\"], bins=20)\n",
    "plt.xlabel(\"Observed baseflow\")\n",
    "plt.ylabel(\"Frequency\")\n",
    "plt.title(\"Histogram of observed baseflow\")\n",
    "plt.show()"
   ]
  },
  {
   "cell_type": "code",
   "execution_count": null,
   "id": "20f7ffb6",
   "metadata": {},
   "outputs": [],
   "source": [
    "plt.boxplot(df.groupby(\"Segment_id\")[\"Observed\"].apply(list), labels=df[\"Segment_id\"].unique())\n",
    "plt.xlabel(\"Segment id\")\n",
    "plt.ylabel(\"Observed baseflow\")\n",
    "plt.title(\"Observed baseflow by segment id\")\n",
    "plt.show()"
   ]
  },
  {
   "cell_type": "code",
   "execution_count": null,
   "id": "b4b58c4b",
   "metadata": {},
   "outputs": [],
   "source": [
    "%matplotlib inline\n",
    "\n",
    "df.isnull().sum()\n",
    "df.describe()\n",
    "\n",
    "X = df.drop(['Observed', 'Segment_id'], axis=1)\n",
    "y = df['Observed']\n",
    "X_train, X_test, y_train, y_test = train_test_split(X, y, test_size=0.2, random_state=0)\n",
    "\n",
    "regressor = LinearRegression()\n",
    "regressor.fit(X_train, y_train)\n",
    "y_pred = regressor.predict(X_test)\n",
    "\n",
    "r2 = r2_score(y_test, y_pred)\n",
    "rmse = np.sqrt(mean_squared_error(y_test, y_pred))\n",
    "print(f\"R-squared value: {r2}\")\n",
    "print(f\"Root mean squared error: {rmse}\")"
   ]
  },
  {
   "cell_type": "code",
   "execution_count": null,
   "id": "0a45b361",
   "metadata": {},
   "outputs": [],
   "source": [
    "plt.scatter(y_test, y_pred, s=3)\n",
    "plt.xlabel('Observed Baseflow')\n",
    "plt.ylabel('Predicted Baseflow')\n",
    "plt.show()"
   ]
  },
  {
   "cell_type": "code",
   "execution_count": null,
   "id": "43013fcd",
   "metadata": {},
   "outputs": [],
   "source": [
    "corr_matrix = df.corr()\n",
    "print(corr_matrix)"
   ]
  },
  {
   "cell_type": "code",
   "execution_count": null,
   "id": "09a08b8b",
   "metadata": {},
   "outputs": [],
   "source": [
    "sns.heatmap(corr_matrix, annot=True, cmap='coolwarm')\n",
    "plt.show()"
   ]
  },
  {
   "cell_type": "code",
   "execution_count": null,
   "id": "6f26ca47",
   "metadata": {},
   "outputs": [],
   "source": [
    "summary_stats = df.describe()\n",
    "print(summary_stats)"
   ]
  },
  {
   "cell_type": "code",
   "execution_count": null,
   "id": "fd591dd4",
   "metadata": {},
   "outputs": [],
   "source": [
    "df.hist(figsize=(10,10), bins=20)\n",
    "pd.plotting.scatter_matrix(df, figsize=(15,15))"
   ]
  },
  {
   "cell_type": "code",
   "execution_count": null,
   "id": "dfc9a054",
   "metadata": {},
   "outputs": [],
   "source": [
    "map = folium.Map(location=[df['y'].mean(), df['x'].mean()], zoom_start=10)\n",
    "for lat, lon, name in zip(df['y'], df['x'], df['Segment_id']):\n",
    "    folium.Marker(location=[lat, lon], popup=name).add_to(map)\n",
    "map.save('stations_map.pdf')"
   ]
  },
  {
   "cell_type": "code",
   "execution_count": null,
   "id": "0705a03f",
   "metadata": {},
   "outputs": [],
   "source": [
    "plt.plot(df['Date'], df['Observed'])\n",
    "plt.xlabel('Date')\n",
    "plt.ylabel('Observed Baseflow')\n",
    "plt.show()"
   ]
  },
  {
   "cell_type": "code",
   "execution_count": null,
   "id": "59d4fc3c",
   "metadata": {},
   "outputs": [],
   "source": [
    "plt.scatter(df['Precipitation'], df['Observed'])\n",
    "plt.xlabel('Precipitation')\n",
    "plt.ylabel('Observed Baseflow')\n",
    "plt.show()"
   ]
  },
  {
   "cell_type": "code",
   "execution_count": null,
   "id": "d2e1df16",
   "metadata": {},
   "outputs": [],
   "source": [
    "df['Water_Balance'] = df['Precipitation'] - df['Evapotranspiration'] - df['Observed'] - df['Irrigation_pumping']\n",
    "df['Groundwater_Contribution'] = df['Observed'] / (df['Observed'] + df['Water_Balance']) * 100\n",
    "df"
   ]
  },
  {
   "cell_type": "code",
   "execution_count": null,
   "id": "faec8c42",
   "metadata": {},
   "outputs": [],
   "source": [
    "X = df[['Evapotranspiration', 'Precipitation', 'Irrigation_pumping']]\n",
    "y = df['Observed']\n",
    "model = LinearRegression()\n",
    "model.fit(X, y)\n",
    "\n",
    "print('R-squared:', model.score(X, y))"
   ]
  },
  {
   "cell_type": "code",
   "execution_count": null,
   "id": "a628c088",
   "metadata": {},
   "outputs": [],
   "source": []
  }
 ],
 "metadata": {
  "kernelspec": {
   "display_name": "Python 3 (ipykernel)",
   "language": "python",
   "name": "python3"
  },
  "language_info": {
   "codemirror_mode": {
    "name": "ipython",
    "version": 3
   },
   "file_extension": ".py",
   "mimetype": "text/x-python",
   "name": "python",
   "nbconvert_exporter": "python",
   "pygments_lexer": "ipython3",
   "version": "3.11.1"
  }
 },
 "nbformat": 4,
 "nbformat_minor": 5
}
