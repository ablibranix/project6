{
 "cells": [
  {
   "cell_type": "code",
   "execution_count": null,
   "id": "82305c3b",
   "metadata": {},
   "outputs": [],
   "source": [
    "import pandas as pd\n",
    "import numpy as np\n",
    "import seaborn as sns\n",
    "import folium\n",
    "import datetime\n",
    "import matplotlib.pyplot as plt\n",
    "from sklearn.model_selection import cross_val_score\n",
    "from sklearn.model_selection import train_test_split\n",
    "from sklearn.linear_model import LinearRegression\n",
    "from sklearn.impute import SimpleImputer\n",
    "from sklearn.metrics import r2_score, mean_squared_error"
   ]
  },
  {
   "cell_type": "code",
   "execution_count": null,
   "id": "28c3cbac",
   "metadata": {},
   "outputs": [],
   "source": [
    "def convert_date(df):\n",
    "    df['Corrected_Dates'] = pd.to_datetime((df['Date'] - 693963), unit='D', origin=datetime.datetime(1900, 1, 1))\n",
    "    return df"
   ]
  },
  {
   "cell_type": "code",
   "execution_count": null,
   "id": "44eee975",
   "metadata": {},
   "outputs": [],
   "source": [
    "df = pd.read_csv('RRCA_baseflow.csv')\n",
    "df = convert_date(df)\n",
    "df['Date'] = df['Corrected_Dates']\n",
    "df = df.drop('Corrected_Dates', axis=1)\n",
    "df"
   ]
  },
  {
   "cell_type": "code",
   "execution_count": null,
   "id": "2c5318fa",
   "metadata": {},
   "outputs": [],
   "source": [
    "fig, axs = plt.subplots(1, 3, sharey=True)\n",
    "df.plot(kind='scatter', x='Evapotranspiration', y='Observed', ax=axs[0], figsize=(16, 8), s=2)\n",
    "df.plot(kind='scatter', x='Precipitation', y='Observed', ax=axs[1], s=2)\n",
    "df.plot(kind='scatter', x='Irrigation_pumping', y='Observed', ax=axs[2], s=2)"
   ]
  },
  {
   "cell_type": "markdown",
   "id": "b27fc2cf",
   "metadata": {},
   "source": []
  },
  {
   "cell_type": "code",
   "execution_count": null,
   "id": "2e26a89b",
   "metadata": {},
   "outputs": [],
   "source": [
    "# create X and y\n",
    "feature_cols = ['Precipitation']\n",
    "X = df[feature_cols]\n",
    "y = df.Observed\n",
    "\n",
    "# follow the usual sklearn pattern: import, instantiate, fit\n",
    "from sklearn.linear_model import LinearRegression\n",
    "lm = LinearRegression()\n",
    "lm.fit(X, y)\n",
    "\n",
    "# print intercept and coefficients\n",
    "print(lm.intercept_)\n",
    "print(lm.coef_)"
   ]
  },
  {
   "cell_type": "code",
   "execution_count": null,
   "id": "154920a1",
   "metadata": {},
   "outputs": [],
   "source": [
    "X_new = pd.DataFrame({'Precipitation': [df.Precipitation.min(), df.Precipitation.max()]})\n",
    "X_new"
   ]
  },
  {
   "cell_type": "code",
   "execution_count": null,
   "id": "3ae21fdd",
   "metadata": {},
   "outputs": [],
   "source": [
    "preds = lm.predict(X_new)\n",
    "preds"
   ]
  },
  {
   "cell_type": "code",
   "execution_count": null,
   "id": "1db857e3",
   "metadata": {},
   "outputs": [],
   "source": [
    "# first, plot the observed data\n",
    "df.plot(kind='scatter', x='Precipitation', y='Observed')\n",
    "\n",
    "# then, plot the least squares line\n",
    "plt.plot(X_new, preds, c='red', linewidth=2)"
   ]
  },
  {
   "cell_type": "code",
   "execution_count": null,
   "id": "9288e0bb",
   "metadata": {},
   "outputs": [],
   "source": [
    "import statsmodels.formula.api as smf\n",
    "\n",
    "# create a fitted model in one line\n",
    "lm = smf.ols(formula='Observed ~ Precipitation', data=df).fit()\n",
    "\n",
    "# print the coefficients\n",
    "display(lm.params)\n",
    "\n",
    "# print the confidence intervals for the model coefficients\n",
    "display(lm.conf_int())"
   ]
  },
  {
   "cell_type": "code",
   "execution_count": null,
   "id": "7a755bff",
   "metadata": {},
   "outputs": [],
   "source": [
    "# Print the R-squared value for the model using statsmodels\n",
    "lm = smf.ols(formula='Observed ~ Precipitation', data=df).fit()\n",
    "display(lm.rsquared)\n",
    "\n",
    "# Print the R-squared value for the model using sklearn\n",
    "lm = LinearRegression()\n",
    "lm.fit(df[['Precipitation']], df.Observed)\n",
    "display(lm.score(df[['Precipitation']], df.Observed))"
   ]
  },
  {
   "cell_type": "code",
   "execution_count": null,
   "id": "f127f025",
   "metadata": {},
   "outputs": [],
   "source": [
    "# create X and y\n",
    "feature_cols = ['Precipitation','Irrigation_pumping']\n",
    "X = df[feature_cols]\n",
    "y = df.Observed\n",
    "\n",
    "# follow the usual sklearn pattern: import, instantiate, fit\n",
    "from sklearn.linear_model import LinearRegression\n",
    "lm = LinearRegression()\n",
    "lm.fit(X, y)\n",
    "\n",
    "# print intercept and coefficients\n",
    "display(lm.intercept_)\n",
    "display(list(zip(feature_cols, lm.coef_)))\n"
   ]
  },
  {
   "cell_type": "code",
   "execution_count": null,
   "id": "e85ff8b0",
   "metadata": {},
   "outputs": [],
   "source": [
    "# create a fitted model with all three features\n",
    "lm = smf.ols(formula='Observed ~ Precipitation + Irrigation_pumping', data=df).fit()\n",
    "\n",
    "# print the coefficients\n",
    "display(lm.params)\n",
    "\n",
    "# print a summary of the fitted model\n",
    "lm.summary()"
   ]
  },
  {
   "cell_type": "markdown",
   "id": "68c03c97",
   "metadata": {},
   "source": [
    "## Charts and Correlation Matrix"
   ]
  },
  {
   "cell_type": "code",
   "execution_count": null,
   "id": "1b62515d",
   "metadata": {},
   "outputs": [],
   "source": [
    "grouped_data = df.groupby('Segment_id').mean()\n",
    "\n",
    "# Plot the bar graphs\n",
    "grouped_data[['Evapotranspiration', 'Precipitation', 'Observed']].plot.bar()\n",
    "plt.xlabel('Segment ID')\n",
    "plt.ylabel('Mean Values')\n",
    "plt.title('Mean Evapotranspiration, Precipitation, and Observed by Segment ID')\n",
    "plt.show()"
   ]
  },
  {
   "cell_type": "code",
   "execution_count": null,
   "id": "af94912b",
   "metadata": {},
   "outputs": [],
   "source": [
    "plt.scatter(df[\"Evapotranspiration\"], df[\"Observed\"], s=3)\n",
    "plt.xlabel(\"Evapotranspiration\")\n",
    "plt.ylabel(\"Observed baseflow\")\n",
    "plt.title(\"Observed baseflow vs. Evapotranspiration\")\n",
    "plt.show()"
   ]
  },
  {
   "cell_type": "code",
   "execution_count": null,
   "id": "411559bb",
   "metadata": {},
   "outputs": [],
   "source": [
    "plt.scatter(df[\"Irrigation_pumping\"], df[\"Observed\"], s=3)\n",
    "plt.xlabel(\"Irrigation_pumping\")\n",
    "plt.ylabel(\"Observed baseflow\")\n",
    "plt.title(\"Observed baseflow vs. Irrigation_pumping\")\n",
    "plt.show()"
   ]
  },
  {
   "cell_type": "code",
   "execution_count": null,
   "id": "2ded5285",
   "metadata": {},
   "outputs": [],
   "source": [
    "plt.scatter(df[\"Precipitation\"], df[\"Observed\"], s=3)\n",
    "plt.xlabel(\"Precipitation\")\n",
    "plt.ylabel(\"Observed baseflow\")\n",
    "plt.title(\"Observed baseflow vs. Precipitation\")\n",
    "plt.show()"
   ]
  },
  {
   "cell_type": "code",
   "execution_count": null,
   "id": "dc0cbd12",
   "metadata": {},
   "outputs": [],
   "source": [
    "plt.scatter(df[\"Date\"], df[\"Observed\"], s=3)\n",
    "plt.xlabel(\"Date\")\n",
    "plt.ylabel(\"Observed baseflow\")\n",
    "plt.title(\"Observed baseflow over time\")\n",
    "plt.show()"
   ]
  },
  {
   "cell_type": "code",
   "execution_count": null,
   "id": "00dfa002",
   "metadata": {},
   "outputs": [],
   "source": [
    "%matplotlib inline\n",
    "\n",
    "data = pd.read_csv('RRCA_baseflow.csv')\n",
    "\n",
    "data.isnull().sum()\n",
    "data.describe()\n",
    "\n",
    "X = data.drop(['Observed', 'Segment_id'], axis=1)\n",
    "y = data['Observed']\n",
    "X_train, X_test, y_train, y_test = train_test_split(X, y, test_size=0.2, random_state=0)\n",
    "\n",
    "regressor = LinearRegression()\n",
    "regressor.fit(X_train, y_train)\n",
    "y_pred = regressor.predict(X_test)\n",
    "\n",
    "r2 = r2_score(y_test, y_pred)\n",
    "rmse = np.sqrt(mean_squared_error(y_test, y_pred))\n",
    "print(f\"R-squared value: {r2}\")\n",
    "print(f\"Root mean squared error: {rmse}\")"
   ]
  },
  {
   "cell_type": "code",
   "execution_count": null,
   "id": "0a45b361",
   "metadata": {},
   "outputs": [],
   "source": [
    "plt.scatter(y_test, y_pred, s=3)\n",
    "plt.xlabel('Observed Baseflow')\n",
    "plt.ylabel('Predicted Baseflow')\n",
    "plt.show()"
   ]
  },
  {
   "cell_type": "code",
   "execution_count": null,
   "id": "09a08b8b",
   "metadata": {},
   "outputs": [],
   "source": [
    "corr_matrix = df.corr()\n",
    "sns.heatmap(corr_matrix, annot=True, cmap='coolwarm')\n",
    "plt.show()"
   ]
  },
  {
   "cell_type": "code",
   "execution_count": null,
   "id": "6f26ca47",
   "metadata": {},
   "outputs": [],
   "source": [
    "summary_stats = df.describe()\n",
    "print(summary_stats)"
   ]
  },
  {
   "cell_type": "code",
   "execution_count": null,
   "id": "59d4fc3c",
   "metadata": {},
   "outputs": [],
   "source": [
    "plt.scatter(df['Precipitation'], df['Observed'], s=3)\n",
    "plt.xlabel('Precipitation')\n",
    "plt.ylabel('Observed Baseflow')\n",
    "plt.show()"
   ]
  },
  {
   "cell_type": "markdown",
   "id": "ae4f3717",
   "metadata": {},
   "source": [
    "## Linear Regression"
   ]
  },
  {
   "cell_type": "code",
   "execution_count": null,
   "id": "faec8c42",
   "metadata": {},
   "outputs": [],
   "source": [
    "X = df[['Evapotranspiration', 'Precipitation', 'Irrigation_pumping']]\n",
    "y = df['Observed']\n",
    "model = LinearRegression()\n",
    "model.fit(X, y)\n",
    "\n",
    "print('R-squared:', model.score(X, y))"
   ]
  },
  {
   "cell_type": "code",
   "execution_count": null,
   "id": "a628c088",
   "metadata": {},
   "outputs": [],
   "source": [
    "# Define the features and target variable\n",
    "X = df[['Evapotranspiration', 'Precipitation', 'Irrigation_pumping']]\n",
    "y = df['Observed']\n",
    "\n",
    "# Fit a linear regression model\n",
    "regressor = LinearRegression()\n",
    "regressor.fit(X, y)\n",
    "\n",
    "# Predict the target variable on the same data to calculate MSE\n",
    "y_pred = regressor.predict(X)\n",
    "mse = mean_squared_error(y, y_pred)\n",
    "\n",
    "# Calculate bias and variance using cross-validation\n",
    "cv_scores = cross_val_score(regressor, X, y, cv=5, scoring='neg_mean_squared_error')\n",
    "bias = -np.mean(cv_scores)\n",
    "variance = np.var(cv_scores)\n",
    "\n",
    "print('Mean Squared Error:', mse)\n",
    "print('Bias:', bias)\n",
    "print('Variance:', variance)\n",
    "print('Cross-Validation Scores:', cv_scores)"
   ]
  },
  {
   "cell_type": "code",
   "execution_count": null,
   "id": "d533ecd3",
   "metadata": {},
   "outputs": [],
   "source": []
  }
 ],
 "metadata": {
  "kernelspec": {
   "display_name": "Python 3 (ipykernel)",
   "language": "python",
   "name": "python3"
  },
  "language_info": {
   "codemirror_mode": {
    "name": "ipython",
    "version": 3
   },
   "file_extension": ".py",
   "mimetype": "text/x-python",
   "name": "python",
   "nbconvert_exporter": "python",
   "pygments_lexer": "ipython3",
   "version": "3.11.1"
  }
 },
 "nbformat": 4,
 "nbformat_minor": 5
}
