{
 "cells": [
  {
   "cell_type": "code",
   "execution_count": null,
   "id": "82305c3b",
   "metadata": {},
   "outputs": [],
   "source": [
    "import pandas as pd\n",
    "import numpy as np\n",
    "import seaborn as sns\n",
    "import folium\n",
    "import datetime\n",
    "import matplotlib.pyplot as plt\n",
    "from sklearn.model_selection import cross_val_score\n",
    "from sklearn.model_selection import train_test_split\n",
    "from sklearn.linear_model import LinearRegression\n",
    "from sklearn.impute import SimpleImputer\n",
    "from sklearn.metrics import r2_score, mean_squared_error\n",
    "import statsmodels.formula.api as smf"
   ]
  },
  {
   "cell_type": "code",
   "execution_count": null,
   "id": "28c3cbac",
   "metadata": {},
   "outputs": [],
   "source": [
    "def convert_date(df):\n",
    "    df['Corrected_Dates'] = pd.to_datetime((df['Date'] - 693963), unit='D', origin=datetime.datetime(1900, 1, 1))\n",
    "    return df"
   ]
  },
  {
   "cell_type": "code",
   "execution_count": null,
   "id": "44eee975",
   "metadata": {},
   "outputs": [],
   "source": [
    "df = pd.read_csv('RRCA_baseflow.csv')\n",
    "df = convert_date(df)\n",
    "df['Date'] = df['Corrected_Dates']\n",
    "df = df.drop('Corrected_Dates', axis=1)\n",
    "df"
   ]
  },
  {
   "cell_type": "markdown",
   "id": "c9347aad",
   "metadata": {},
   "source": [
    "## Class code"
   ]
  },
  {
   "cell_type": "code",
   "execution_count": null,
   "id": "2c5318fa",
   "metadata": {},
   "outputs": [],
   "source": [
    "fig, axs = plt.subplots(1, 3, sharey=True)\n",
    "df.plot(kind='scatter', x='Evapotranspiration', y='Observed', ax=axs[0], figsize=(16, 8), s=2)\n",
    "df.plot(kind='scatter', x='Precipitation', y='Observed', ax=axs[1], s=2)\n",
    "df.plot(kind='scatter', x='Irrigation_pumping', y='Observed', ax=axs[2], s=2)\n",
    "plt.savefig('scatter-plot.pdf')"
   ]
  },
  {
   "cell_type": "code",
   "execution_count": null,
   "id": "a365147c",
   "metadata": {},
   "outputs": [],
   "source": [
    "feature_cols = ['Evapotranspiration']\n",
    "X = df[feature_cols]\n",
    "y = df.Observed\n",
    "\n",
    "lm = LinearRegression()\n",
    "lm.fit(X, y)\n",
    "\n",
    "print(lm.intercept_)\n",
    "print(lm.coef_)"
   ]
  },
  {
   "cell_type": "code",
   "execution_count": null,
   "id": "353be822",
   "metadata": {},
   "outputs": [],
   "source": [
    "X_new = pd.DataFrame({'Evapotranspiration': [df.Evapotranspiration.min(), df.Evapotranspiration.max()]})\n",
    "preds = lm.predict(X_new)"
   ]
  },
  {
   "cell_type": "code",
   "execution_count": null,
   "id": "1db857e3",
   "metadata": {},
   "outputs": [],
   "source": [
    "df.plot(kind='scatter', x='Evapotranspiration', y='Observed', s=2)\n",
    "plt.plot(X_new, preds, c='red', linewidth=2)\n",
    "plt.savefig('Evapotranspiration-scatter.pdf')"
   ]
  },
  {
   "cell_type": "code",
   "execution_count": null,
   "id": "7a755bff",
   "metadata": {},
   "outputs": [],
   "source": [
    "lm = smf.ols(formula='Observed ~ Precipitation', data=df).fit()\n",
    "display(lm.rsquared)\n",
    "\n",
    "lm = LinearRegression()\n",
    "lm.fit(df[['Precipitation']], df.Observed)\n",
    "display(lm.score(df[['Precipitation']], df.Observed))"
   ]
  },
  {
   "cell_type": "code",
   "execution_count": null,
   "id": "e85ff8b0",
   "metadata": {},
   "outputs": [],
   "source": [
    "lm = smf.ols(formula='Observed ~ Precipitation + Irrigation_pumping', data=df).fit()\n",
    "display(lm.params)\n",
    "lm.summary()"
   ]
  },
  {
   "cell_type": "markdown",
   "id": "1f9c6438",
   "metadata": {},
   "source": [
    "## Charts and Correlation Matrix"
   ]
  },
  {
   "cell_type": "code",
   "execution_count": null,
   "id": "1b62515d",
   "metadata": {},
   "outputs": [],
   "source": [
    "grouped_data = df.groupby('Segment_id').mean()\n",
    "\n",
    "grouped_data[['Evapotranspiration', 'Precipitation', 'Observed']].plot.bar()\n",
    "plt.xlabel('Segment ID')\n",
    "plt.ylabel('Mean Values')\n",
    "plt.title('Mean Evapotranspiration, Precipitation, and Observed by Segment ID')\n",
    "plt.show()\n",
    "plt.savefig('group-segmentid.pdf')"
   ]
  },
  {
   "cell_type": "code",
   "execution_count": null,
   "id": "dc0cbd12",
   "metadata": {},
   "outputs": [],
   "source": [
    "plt.scatter(df[\"Date\"], df[\"Observed\"], s=3)\n",
    "plt.xlabel(\"Date\")\n",
    "plt.ylabel(\"Observed baseflow\")\n",
    "plt.title(\"Observed baseflow over time\")\n",
    "plt.show()"
   ]
  },
  {
   "cell_type": "code",
   "execution_count": null,
   "id": "09a08b8b",
   "metadata": {},
   "outputs": [],
   "source": [
    "corr_matrix = df.corr()\n",
    "sns.heatmap(corr_matrix, annot=True, cmap='coolwarm')\n",
    "plt.show()"
   ]
  },
  {
   "cell_type": "code",
   "execution_count": null,
   "id": "6f26ca47",
   "metadata": {},
   "outputs": [],
   "source": [
    "summary_stats = df.describe()\n",
    "print(summary_stats)"
   ]
  },
  {
   "cell_type": "markdown",
   "id": "c6ba2b68",
   "metadata": {},
   "source": [
    "## Linear Regression"
   ]
  },
  {
   "cell_type": "code",
   "execution_count": null,
   "id": "faec8c42",
   "metadata": {},
   "outputs": [],
   "source": [
    "%matplotlib inline\n",
    "\n",
    "data = pd.read_csv('RRCA_baseflow.csv')\n",
    "\n",
    "X = data.drop(['Observed','Evapotranspiration', 'Irrigation_pumping'], axis=1)\n",
    "y = data['Observed']\n",
    "X_train, X_test, y_train, y_test = train_test_split(X, y, test_size=0.2, random_state=0)\n",
    "\n",
    "regressor = LinearRegression()\n",
    "regressor.fit(X_train, y_train)\n",
    "y_pred = regressor.predict(X_test)\n",
    "\n",
    "r2 = r2_score(y_test, y_pred)\n",
    "rmse = np.sqrt(mean_squared_error(y_test, y_pred))\n",
    "print(f\"R-squared value: {r2}\")\n",
    "print(f\"Root mean squared error: {rmse}\")"
   ]
  },
  {
   "cell_type": "markdown",
   "id": "702a6923",
   "metadata": {},
   "source": [
    "### Remove any Observed value above 200"
   ]
  },
  {
   "cell_type": "code",
   "execution_count": null,
   "id": "efe108d4",
   "metadata": {},
   "outputs": [],
   "source": [
    "outliers = data.loc[df['Observed'] > 200]\n",
    "noOutliers = data.loc[df['Observed'] <= 200]\n",
    "noOutliers"
   ]
  },
  {
   "cell_type": "code",
   "execution_count": null,
   "id": "cfadeff8",
   "metadata": {},
   "outputs": [],
   "source": [
    "fig, axs = plt.subplots(1, 3, sharey=True)\n",
    "noOutliers.plot(kind='scatter', x='Evapotranspiration', y='Observed', ax=axs[0], figsize=(16, 8), s=2)\n",
    "noOutliers.plot(kind='scatter', x='Precipitation', y='Observed', ax=axs[1], s=2)\n",
    "noOutliers.plot(kind='scatter', x='Irrigation_pumping', y='Observed', ax=axs[2], s=2)\n",
    "plt.savefig('nooutlier-scatter-plot.pdf')"
   ]
  },
  {
   "cell_type": "code",
   "execution_count": null,
   "id": "3348d4fe",
   "metadata": {},
   "outputs": [],
   "source": [
    "feature_cols = ['Evapotranspiration']\n",
    "X = noOutliers[feature_cols]\n",
    "y = noOutliers.Observed\n",
    "\n",
    "lm = LinearRegression()\n",
    "lm.fit(X, y)\n",
    "\n",
    "X_new = pd.DataFrame({'Evapotranspiration': [noOutliers.Evapotranspiration.min(), noOutliers.Evapotranspiration.max()]})\n",
    "preds = lm.predict(X_new)\n",
    "\n",
    "noOutliers.plot(kind='scatter', x='Evapotranspiration', y='Observed', s=2)\n",
    "plt.plot(X_new, preds, c='red', linewidth=2)\n",
    "plt.savefig('nooutlier-Evapotranspiration.pdf')"
   ]
  },
  {
   "cell_type": "code",
   "execution_count": null,
   "id": "6e603c27",
   "metadata": {},
   "outputs": [],
   "source": [
    "X = noOutliers[['Evapotranspiration', 'Precipitation', 'Irrigation_pumping']]\n",
    "y = noOutliers['Observed']\n",
    "model = LinearRegression()\n",
    "model.fit(X, y)\n",
    "\n",
    "print('R-squared:', model.score(X, y))"
   ]
  },
  {
   "cell_type": "code",
   "execution_count": null,
   "id": "a36febd4",
   "metadata": {},
   "outputs": [],
   "source": [
    "%matplotlib inline\n",
    "\n",
    "X = noOutliers.drop(['Observed','Evapotranspiration', 'Irrigation_pumping'], axis=1)\n",
    "y = noOutliers['Observed']\n",
    "X_train, X_test, y_train, y_test = train_test_split(X, y, test_size=0.2, random_state=0)\n",
    "\n",
    "regressor = LinearRegression()\n",
    "regressor.fit(X_train, y_train)\n",
    "y_pred = regressor.predict(X_test)\n",
    "\n",
    "r2 = r2_score(y_test, y_pred)\n",
    "rmse = np.sqrt(mean_squared_error(y_test, y_pred))\n",
    "print(f\"R-squared value: {r2}\")\n",
    "print(f\"Root mean squared error: {rmse}\")"
   ]
  },
  {
   "cell_type": "code",
   "execution_count": null,
   "id": "a50dad9f",
   "metadata": {},
   "outputs": [],
   "source": []
  }
 ],
 "metadata": {
  "kernelspec": {
   "display_name": "Python 3 (ipykernel)",
   "language": "python",
   "name": "python3"
  },
  "language_info": {
   "codemirror_mode": {
    "name": "ipython",
    "version": 3
   },
   "file_extension": ".py",
   "mimetype": "text/x-python",
   "name": "python",
   "nbconvert_exporter": "python",
   "pygments_lexer": "ipython3",
   "version": "3.11.1"
  }
 },
 "nbformat": 4,
 "nbformat_minor": 5
}
